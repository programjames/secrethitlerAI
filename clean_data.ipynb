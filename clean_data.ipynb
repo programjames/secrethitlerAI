{
 "cells": [
  {
   "cell_type": "markdown",
   "metadata": {},
   "source": [
    "Some functions to help clean up the data."
   ]
  },
  {
   "cell_type": "code",
   "execution_count": 21,
   "metadata": {},
   "outputs": [],
   "source": [
    "import torch\n",
    "import json, os\n",
    "from tqdm.notebook import tqdm"
   ]
  },
  {
   "cell_type": "code",
   "execution_count": 6,
   "metadata": {},
   "outputs": [],
   "source": [
    "role_map = {'liberal': 0, 'fascist': 1, 'hitler': 2}\n",
    "def get_roles(d):\n",
    "    roles = [d['players'][i]['role'] for i in range(len(d['players']))]\n",
    "    return list(map(lambda x: role_map[x], roles))"
   ]
  },
  {
   "cell_type": "code",
   "execution_count": 7,
   "metadata": {},
   "outputs": [],
   "source": [
    "def check_game_end(d):\n",
    "    roles = get_roles(d)\n",
    "    libs = 0\n",
    "    fas = 0\n",
    "    for turn in d['logs']:\n",
    "        if 'execution' in turn and roles[turn['execution']] == 2:\n",
    "            return True\n",
    "        if 'enactedPolicy' not in turn:\n",
    "            continue\n",
    "        if turn['enactedPolicy'] == 'liberal':\n",
    "            libs += 1\n",
    "        elif turn['enactedPolicy'] == 'fascist':\n",
    "            fas += 1\n",
    "    return libs == 5 or fas == 6\n",
    "\n",
    "\n",
    "def filter(directory='data/games', out='data/filtered'):\n",
    "    print('Filtering files...')\n",
    "\n",
    "    if not os.path.isdir(out):\n",
    "        os.makedirs(out)\n",
    "\n",
    "    game_settings = {'deckState': {'lib': 6, 'fas': 11},\n",
    "                     'trackState': {'lib': 0, 'fas': 0},\n",
    "                     'powers': [None, 'investigate', 'election', 'bullet', 'bullet'],\n",
    "                     'enabled': False,\n",
    "                     'hitlerZone': 3,\n",
    "                     'vetoZone': 5,\n",
    "                     'fascistCount': 2,\n",
    "                     'hitKnowsFas': False}\n",
    "\n",
    "    i = 0\n",
    "    for file in os.listdir(directory):\n",
    "        d = json.load(open(os.path.join(directory, file)))\n",
    "        if len(d[\"players\"]) == 7 and d['customGameSettings'] == game_settings and check_game_end(d):\n",
    "            i += 1\n",
    "            json.dump(d, open(os.path.join(out, f'{i}.json'), 'w'))"
   ]
  },
  {
   "cell_type": "code",
   "execution_count": 8,
   "metadata": {},
   "outputs": [],
   "source": [
    "def turn_inputs(turn):\n",
    "    ### Part 1: voting\n",
    "    inpts = torch.zeros(54)\n",
    "    i = 10\n",
    "    inpts[10 + turn[\"presidentId\"]] = 1\n",
    "    inpts[17 + turn[\"chancellorId\"]] = 1\n",
    "    for i, v in enumerate(turn[\"votes\"]):\n",
    "        inpts[24+i] = int(v)*2-1\n",
    "    yield inpts\n",
    "    ### Part 2: claims\n",
    "    if \"presidentHand\" in turn or 'enactedPolicy' in turn:\n",
    "        inpts = torch.zeros(54)\n",
    "        # Set the \"claim\" neuron to true\n",
    "        inpts[31] = 1\n",
    "        if \"presidentClaim\" in turn:\n",
    "            claim = turn[\"presidentClaim\"]\n",
    "            inpts[32:35] = -1\n",
    "            if claim[\"blues\"] == 0:\n",
    "                pass\n",
    "            elif claim[\"blues\"] == 1:\n",
    "                inpts[32:33] = 1\n",
    "            elif claim[\"blues\"] == 2:\n",
    "                inpts[32:34] = 1\n",
    "            else:\n",
    "                inpts[32:35] = 1\n",
    "        \n",
    "        if \"chancellorClaim\" in turn:\n",
    "            claim = turn[\"chancellorClaim\"]\n",
    "            inpts[35:37] = -1\n",
    "            if claim[\"blues\"] == 0:\n",
    "                pass\n",
    "            elif claim[\"blues\"] == 1:\n",
    "                inpts[35:36] = 1\n",
    "            else:\n",
    "                inpts[35:37] = 1\n",
    "        \n",
    "        if 'enactedPolicy' in turn:\n",
    "            if turn[\"enactedPolicy\"] == \"liberal\":\n",
    "                inpts[37] = 1\n",
    "            else:\n",
    "                inpts[37] = -1\n",
    "            \n",
    "        yield inpts\n",
    "    ### Part 3+4: investigation\n",
    "    if \"investigationId\" in turn:\n",
    "        inpts = torch.zeros(54)\n",
    "        inpts[38 + turn[\"investigationId\"]] = 1\n",
    "        yield inpts\n",
    "        inpts = torch.zeros(54)\n",
    "        if \"investigationClaim\" in turn:\n",
    "            if turn[\"investigationClaim\"] == \"liberal\":\n",
    "                inpts[45] = 1\n",
    "            else:\n",
    "                inpts[46] = 1\n",
    "            print(\"Invest happened\", inpts[45:47])\n",
    "        yield inpts\n",
    "    ### Part 5: executions\n",
    "    if \"execution\" in turn:\n",
    "        inpts = torch.zeros(54)\n",
    "        inpts[47 + turn[\"execution\"]] = 1\n",
    "        yield inpts\n",
    "    \n",
    "    \n",
    "\n",
    "def make_inputs(d):\n",
    "    roles = get_roles(d)\n",
    "    for seat, role in enumerate(roles):\n",
    "        inputs = []\n",
    "        ### Part 0: Seat and role\n",
    "        inpts = torch.zeros(54)\n",
    "        inpts[seat] = 1\n",
    "        inpts[7 + role] = 1\n",
    "        inputs.append(inpts.tolist())\n",
    "        for turn in d[\"logs\"]:\n",
    "            for inpts in turn_inputs(turn):\n",
    "                inputs.append(inpts.tolist())\n",
    "        yield roles, inputs"
   ]
  },
  {
   "cell_type": "code",
   "execution_count": 25,
   "metadata": {},
   "outputs": [],
   "source": [
    "def partial_inputs(d):\n",
    "    roles = get_roles(d)\n",
    "    inputs = []\n",
    "    for turn in d[\"logs\"]:\n",
    "        inpts = [0 for i in range(9)]\n",
    "        inpts[turn[\"presidentId\"]] = 1\n",
    "        inpts[turn[\"chancellorId\"]] = 1\n",
    "        if \"enactedPolicy\" in turn:\n",
    "            if turn[\"enactedPolicy\"] == 'liberal':\n",
    "                inpts[7] = 1\n",
    "            else:\n",
    "                inpts[8] = 1\n",
    "        inputs.append(inpts)\n",
    "    return roles, inputs\n",
    "\n",
    "def partial_parse(directory=\"data/filtered\", out=\"data/partial_data\"):\n",
    "    counts = dict()\n",
    "    progress_bar = tqdm(os.listdir(directory))\n",
    "    for file in progress_bar:\n",
    "        d = json.load(open(os.path.join(directory, file)))\n",
    "        l = len(d[\"logs\"])\n",
    "        roles, inputs = partial_inputs(d)\n",
    "        if l in counts:\n",
    "            counts[l] += 1\n",
    "        else:\n",
    "            counts[l] = 1\n",
    "        out_dir = os.path.join(out, str(l))\n",
    "        if not os.path.isdir(out_dir):\n",
    "            os.makedirs(out_dir)\n",
    "        out_path = os.path.join(out_dir, f'{counts[l]}.txt')\n",
    "        json.dump({'roles': roles, 'inputs': inputs}, open(out_path, \"w\"))\n",
    "        "
   ]
  },
  {
   "cell_type": "code",
   "execution_count": 23,
   "metadata": {},
   "outputs": [],
   "source": [
    "def parse(directory=\"data/filtered\", out=\"data/parsed\"):\n",
    "    if not os.path.isdir(out):\n",
    "        os.makedirs(out)\n",
    "    \n",
    "    i = -1\n",
    "    for file in os.listdir(directory):\n",
    "        d = json.load(open(os.path.join(directory, file)))\n",
    "        for roles, inputs in make_inputs(d):\n",
    "            i += 1\n",
    "            parsed = {'roles': roles, 'inputs': inputs}\n",
    "            json.dump(parsed, open(os.path.join(out, f'{i}.txt'), \"w\"))\n",
    "        break"
   ]
  },
  {
   "cell_type": "code",
   "execution_count": 26,
   "metadata": {},
   "outputs": [
    {
     "data": {
      "application/vnd.jupyter.widget-view+json": {
       "model_id": "f4697e1ed0834207997ea678a6852bda",
       "version_major": 2,
       "version_minor": 0
      },
      "text/plain": [
       "HBox(children=(FloatProgress(value=0.0, max=10102.0), HTML(value='')))"
      ]
     },
     "metadata": {},
     "output_type": "display_data"
    },
    {
     "name": "stdout",
     "output_type": "stream",
     "text": [
      "\n"
     ]
    }
   ],
   "source": [
    "partial_parse()"
   ]
  },
  {
   "cell_type": "code",
   "execution_count": null,
   "metadata": {},
   "outputs": [],
   "source": []
  }
 ],
 "metadata": {
  "kernelspec": {
   "display_name": "Python 3",
   "language": "python",
   "name": "python3"
  },
  "language_info": {
   "codemirror_mode": {
    "name": "ipython",
    "version": 3
   },
   "file_extension": ".py",
   "mimetype": "text/x-python",
   "name": "python",
   "nbconvert_exporter": "python",
   "pygments_lexer": "ipython3",
   "version": "3.7.4"
  }
 },
 "nbformat": 4,
 "nbformat_minor": 2
}
